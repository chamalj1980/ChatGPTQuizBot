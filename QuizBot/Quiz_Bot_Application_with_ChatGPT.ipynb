{
  "nbformat": 4,
  "nbformat_minor": 0,
  "metadata": {
    "colab": {
      "provenance": []
    },
    "kernelspec": {
      "name": "python3",
      "display_name": "Python 3"
    },
    "language_info": {
      "name": "python"
    }
  },
  "cells": [
    {
      "cell_type": "markdown",
      "source": [
        "#A Quiz Bot Application with ChatGPT\n",
        "\n",
        "By Chamila Wijayawardhana\n",
        "<hr>"
      ],
      "metadata": {
        "id": "kpRMVZ1XbxtT"
      }
    },
    {
      "cell_type": "markdown",
      "source": [
        "### Python Library Installation"
      ],
      "metadata": {
        "id": "6AdjJCI9b4s6"
      }
    },
    {
      "cell_type": "code",
      "source": [
        "!pip install openai"
      ],
      "metadata": {
        "colab": {
          "base_uri": "https://localhost:8080/"
        },
        "id": "HxZEea00cee_",
        "outputId": "602874c1-ff1d-4cb0-8466-b88e0c7407d2"
      },
      "execution_count": 1,
      "outputs": [
        {
          "output_type": "stream",
          "name": "stdout",
          "text": [
            "Collecting openai\n",
            "  Downloading openai-0.27.8-py3-none-any.whl (73 kB)\n",
            "\u001b[2K     \u001b[90m━━━━━━━━━━━━━━━━━━━━━━━━━━━━━━━━━━━━━━━━\u001b[0m \u001b[32m73.6/73.6 kB\u001b[0m \u001b[31m1.8 MB/s\u001b[0m eta \u001b[36m0:00:00\u001b[0m\n",
            "\u001b[?25hRequirement already satisfied: requests>=2.20 in /usr/local/lib/python3.10/dist-packages (from openai) (2.27.1)\n",
            "Requirement already satisfied: tqdm in /usr/local/lib/python3.10/dist-packages (from openai) (4.65.0)\n",
            "Requirement already satisfied: aiohttp in /usr/local/lib/python3.10/dist-packages (from openai) (3.8.5)\n",
            "Requirement already satisfied: urllib3<1.27,>=1.21.1 in /usr/local/lib/python3.10/dist-packages (from requests>=2.20->openai) (1.26.16)\n",
            "Requirement already satisfied: certifi>=2017.4.17 in /usr/local/lib/python3.10/dist-packages (from requests>=2.20->openai) (2023.7.22)\n",
            "Requirement already satisfied: charset-normalizer~=2.0.0 in /usr/local/lib/python3.10/dist-packages (from requests>=2.20->openai) (2.0.12)\n",
            "Requirement already satisfied: idna<4,>=2.5 in /usr/local/lib/python3.10/dist-packages (from requests>=2.20->openai) (3.4)\n",
            "Requirement already satisfied: attrs>=17.3.0 in /usr/local/lib/python3.10/dist-packages (from aiohttp->openai) (23.1.0)\n",
            "Requirement already satisfied: multidict<7.0,>=4.5 in /usr/local/lib/python3.10/dist-packages (from aiohttp->openai) (6.0.4)\n",
            "Requirement already satisfied: async-timeout<5.0,>=4.0.0a3 in /usr/local/lib/python3.10/dist-packages (from aiohttp->openai) (4.0.2)\n",
            "Requirement already satisfied: yarl<2.0,>=1.0 in /usr/local/lib/python3.10/dist-packages (from aiohttp->openai) (1.9.2)\n",
            "Requirement already satisfied: frozenlist>=1.1.1 in /usr/local/lib/python3.10/dist-packages (from aiohttp->openai) (1.4.0)\n",
            "Requirement already satisfied: aiosignal>=1.1.2 in /usr/local/lib/python3.10/dist-packages (from aiohttp->openai) (1.3.1)\n",
            "Installing collected packages: openai\n",
            "Successfully installed openai-0.27.8\n"
          ]
        }
      ]
    },
    {
      "cell_type": "code",
      "source": [
        "!pip install langchain"
      ],
      "metadata": {
        "colab": {
          "base_uri": "https://localhost:8080/"
        },
        "id": "m7LggyyQcssi",
        "outputId": "43758807-541d-4d4b-87b5-0719a2525a93"
      },
      "execution_count": 2,
      "outputs": [
        {
          "output_type": "stream",
          "name": "stdout",
          "text": [
            "Collecting langchain\n",
            "  Downloading langchain-0.0.254-py3-none-any.whl (1.4 MB)\n",
            "\u001b[2K     \u001b[90m━━━━━━━━━━━━━━━━━━━━━━━━━━━━━━━━━━━━━━━━\u001b[0m \u001b[32m1.4/1.4 MB\u001b[0m \u001b[31m7.8 MB/s\u001b[0m eta \u001b[36m0:00:00\u001b[0m\n",
            "\u001b[?25hRequirement already satisfied: PyYAML>=5.3 in /usr/local/lib/python3.10/dist-packages (from langchain) (6.0.1)\n",
            "Requirement already satisfied: SQLAlchemy<3,>=1.4 in /usr/local/lib/python3.10/dist-packages (from langchain) (2.0.19)\n",
            "Requirement already satisfied: aiohttp<4.0.0,>=3.8.3 in /usr/local/lib/python3.10/dist-packages (from langchain) (3.8.5)\n",
            "Requirement already satisfied: async-timeout<5.0.0,>=4.0.0 in /usr/local/lib/python3.10/dist-packages (from langchain) (4.0.2)\n",
            "Collecting dataclasses-json<0.6.0,>=0.5.7 (from langchain)\n",
            "  Downloading dataclasses_json-0.5.14-py3-none-any.whl (26 kB)\n",
            "Collecting langsmith<0.1.0,>=0.0.11 (from langchain)\n",
            "  Downloading langsmith-0.0.19-py3-none-any.whl (31 kB)\n",
            "Requirement already satisfied: numexpr<3.0.0,>=2.8.4 in /usr/local/lib/python3.10/dist-packages (from langchain) (2.8.4)\n",
            "Requirement already satisfied: numpy<2,>=1 in /usr/local/lib/python3.10/dist-packages (from langchain) (1.22.4)\n",
            "Collecting openapi-schema-pydantic<2.0,>=1.2 (from langchain)\n",
            "  Downloading openapi_schema_pydantic-1.2.4-py3-none-any.whl (90 kB)\n",
            "\u001b[2K     \u001b[90m━━━━━━━━━━━━━━━━━━━━━━━━━━━━━━━━━━━━━━━━\u001b[0m \u001b[32m90.0/90.0 kB\u001b[0m \u001b[31m8.9 MB/s\u001b[0m eta \u001b[36m0:00:00\u001b[0m\n",
            "\u001b[?25hRequirement already satisfied: pydantic<2,>=1 in /usr/local/lib/python3.10/dist-packages (from langchain) (1.10.12)\n",
            "Requirement already satisfied: requests<3,>=2 in /usr/local/lib/python3.10/dist-packages (from langchain) (2.27.1)\n",
            "Requirement already satisfied: tenacity<9.0.0,>=8.1.0 in /usr/local/lib/python3.10/dist-packages (from langchain) (8.2.2)\n",
            "Requirement already satisfied: attrs>=17.3.0 in /usr/local/lib/python3.10/dist-packages (from aiohttp<4.0.0,>=3.8.3->langchain) (23.1.0)\n",
            "Requirement already satisfied: charset-normalizer<4.0,>=2.0 in /usr/local/lib/python3.10/dist-packages (from aiohttp<4.0.0,>=3.8.3->langchain) (2.0.12)\n",
            "Requirement already satisfied: multidict<7.0,>=4.5 in /usr/local/lib/python3.10/dist-packages (from aiohttp<4.0.0,>=3.8.3->langchain) (6.0.4)\n",
            "Requirement already satisfied: yarl<2.0,>=1.0 in /usr/local/lib/python3.10/dist-packages (from aiohttp<4.0.0,>=3.8.3->langchain) (1.9.2)\n",
            "Requirement already satisfied: frozenlist>=1.1.1 in /usr/local/lib/python3.10/dist-packages (from aiohttp<4.0.0,>=3.8.3->langchain) (1.4.0)\n",
            "Requirement already satisfied: aiosignal>=1.1.2 in /usr/local/lib/python3.10/dist-packages (from aiohttp<4.0.0,>=3.8.3->langchain) (1.3.1)\n",
            "Collecting marshmallow<4.0.0,>=3.18.0 (from dataclasses-json<0.6.0,>=0.5.7->langchain)\n",
            "  Downloading marshmallow-3.20.1-py3-none-any.whl (49 kB)\n",
            "\u001b[2K     \u001b[90m━━━━━━━━━━━━━━━━━━━━━━━━━━━━━━━━━━━━━━━━\u001b[0m \u001b[32m49.4/49.4 kB\u001b[0m \u001b[31m5.4 MB/s\u001b[0m eta \u001b[36m0:00:00\u001b[0m\n",
            "\u001b[?25hCollecting typing-inspect<1,>=0.4.0 (from dataclasses-json<0.6.0,>=0.5.7->langchain)\n",
            "  Downloading typing_inspect-0.9.0-py3-none-any.whl (8.8 kB)\n",
            "Requirement already satisfied: typing-extensions>=4.2.0 in /usr/local/lib/python3.10/dist-packages (from pydantic<2,>=1->langchain) (4.7.1)\n",
            "Requirement already satisfied: urllib3<1.27,>=1.21.1 in /usr/local/lib/python3.10/dist-packages (from requests<3,>=2->langchain) (1.26.16)\n",
            "Requirement already satisfied: certifi>=2017.4.17 in /usr/local/lib/python3.10/dist-packages (from requests<3,>=2->langchain) (2023.7.22)\n",
            "Requirement already satisfied: idna<4,>=2.5 in /usr/local/lib/python3.10/dist-packages (from requests<3,>=2->langchain) (3.4)\n",
            "Requirement already satisfied: greenlet!=0.4.17 in /usr/local/lib/python3.10/dist-packages (from SQLAlchemy<3,>=1.4->langchain) (2.0.2)\n",
            "Requirement already satisfied: packaging>=17.0 in /usr/local/lib/python3.10/dist-packages (from marshmallow<4.0.0,>=3.18.0->dataclasses-json<0.6.0,>=0.5.7->langchain) (23.1)\n",
            "Collecting mypy-extensions>=0.3.0 (from typing-inspect<1,>=0.4.0->dataclasses-json<0.6.0,>=0.5.7->langchain)\n",
            "  Downloading mypy_extensions-1.0.0-py3-none-any.whl (4.7 kB)\n",
            "Installing collected packages: mypy-extensions, marshmallow, typing-inspect, openapi-schema-pydantic, langsmith, dataclasses-json, langchain\n",
            "Successfully installed dataclasses-json-0.5.14 langchain-0.0.254 langsmith-0.0.19 marshmallow-3.20.1 mypy-extensions-1.0.0 openapi-schema-pydantic-1.2.4 typing-inspect-0.9.0\n"
          ]
        }
      ]
    },
    {
      "cell_type": "markdown",
      "source": [
        "### Import Libraries"
      ],
      "metadata": {
        "id": "VjShoTpvg3gc"
      }
    },
    {
      "cell_type": "code",
      "source": [
        "import openai\n",
        "import configparser\n",
        "from langchain import PromptTemplate, OpenAI, LLMChain\n",
        "from langchain.chat_models import ChatOpenAI\n",
        "from langchain.schema import AIMessage, HumanMessage, SystemMessage\n",
        "from langchain.prompts.chat import (SystemMessagePromptTemplate,HumanMessagePromptTemplate,\n",
        "    ChatPromptTemplate,)\n",
        "import json"
      ],
      "metadata": {
        "id": "yxsY1YL3g67w"
      },
      "execution_count": 3,
      "outputs": []
    },
    {
      "cell_type": "markdown",
      "source": [
        "### Load OpenAI API Key"
      ],
      "metadata": {
        "id": "aNGMevI_fpnp"
      }
    },
    {
      "cell_type": "code",
      "source": [
        "config = configparser.ConfigParser()\n",
        "config.read(r'/content/sample_data/config.ini') #Change to your path or assign API Key to openai_api_key (not recomended for production)\n",
        "\n",
        "openai_api_key = config['SECRETS']['openai_api_key']"
      ],
      "metadata": {
        "id": "gg8eqoNPfrL7"
      },
      "execution_count": 4,
      "outputs": []
    },
    {
      "cell_type": "markdown",
      "source": [
        "### Define the language model and create the ChatOpenAI object"
      ],
      "metadata": {
        "id": "gDH6MBAtdQ6o"
      }
    },
    {
      "cell_type": "code",
      "source": [
        "MODEL = \"gpt-3.5-turbo\"\n",
        "chat_llm = ChatOpenAI(model=MODEL, temperature=1, max_tokens=500, openai_api_key=openai_api_key)"
      ],
      "metadata": {
        "id": "b34Sm-4Jdnjv"
      },
      "execution_count": 5,
      "outputs": []
    },
    {
      "cell_type": "markdown",
      "source": [
        "### Python function to generate quesions, answer choices and correct answers"
      ],
      "metadata": {
        "id": "Q5xVxvIyd1_f"
      }
    },
    {
      "cell_type": "code",
      "source": [
        "def generate_question_answer(subject):\n",
        "\n",
        "    system_prompt_template = (\n",
        "        \"You are a quizbot that generates 5 question on a given {topic} and must have 4 choices  as answers for each question. Only one answer choice must be correct. Answer choices must be numered from 1 to 4. Do not duplicate questions. You must return question , answer choices and correct answer as  JSON objects for all question. Output must be in JSON format (question 1, answer choice 1, correct answer 1,question 2, answer choice 2, correct answer 2,question 3, answer choice 3, correct answer 3)\"\n",
        "        #\"You are a quizbot that generates 3 question on a given {topic} with 4 choices  as answers for each question. Only one answer choice must be correct. Answer choices must be numered from 1 to 4. Do not duplicate questions. You must return question , answer choices and correct answer as  python list objects one after the other for each question. Output must be as python list objects\"\n",
        "    )\n",
        "    system_message_prompt = SystemMessagePromptTemplate.from_template(system_prompt_template, input_variables=[\"topic\"])\n",
        "\n",
        "    # Human Prompt\n",
        "    human_prompt_template = \"{topic}\"\n",
        "    human_message_prompt = HumanMessagePromptTemplate.from_template(human_prompt_template, input_variables=[\"topic\"])\n",
        "\n",
        "    # Final Prompt\n",
        "    chat_llm_prompt = ChatPromptTemplate.from_messages(\n",
        "        [system_message_prompt, human_message_prompt]\n",
        "    )\n",
        "\n",
        "    chat_llm_chain = LLMChain(\n",
        "        llm=chat_llm,\n",
        "        prompt=chat_llm_prompt,\n",
        "    )\n",
        "\n",
        "    response = chat_llm_chain.predict(topic=subject)\n",
        "    return response"
      ],
      "metadata": {
        "id": "HQ4dJgvjd_Xu"
      },
      "execution_count": 6,
      "outputs": []
    },
    {
      "cell_type": "markdown",
      "source": [
        "### JSON output"
      ],
      "metadata": {
        "id": "0PmmICLMeOr2"
      }
    },
    {
      "cell_type": "code",
      "source": [
        "response = generate_question_answer(\"second world war\")\n",
        "print(response)"
      ],
      "metadata": {
        "colab": {
          "base_uri": "https://localhost:8080/"
        },
        "id": "JPlPBobWekJh",
        "outputId": "7f44ddb7-96b9-4c51-c098-6aa520b76615"
      },
      "execution_count": 7,
      "outputs": [
        {
          "output_type": "stream",
          "name": "stdout",
          "text": [
            "[\n",
            "  {\n",
            "    \"question\": \"When did the Second World War start?\",\n",
            "    \"choices\": {\n",
            "      \"1\": \"1939\",\n",
            "      \"2\": \"1941\",\n",
            "      \"3\": \"1943\",\n",
            "      \"4\": \"1945\"\n",
            "    },\n",
            "    \"correct_answer\": \"1\"\n",
            "  },\n",
            "  {\n",
            "    \"question\": \"Which country was not part of the Axis powers during the Second World War?\",\n",
            "    \"choices\": {\n",
            "      \"1\": \"Germany\",\n",
            "      \"2\": \"Italy\",\n",
            "      \"3\": \"Soviet Union\",\n",
            "      \"4\": \"Japan\"\n",
            "    },\n",
            "    \"correct_answer\": \"3\"\n",
            "  },\n",
            "  {\n",
            "    \"question\": \"Who was the Prime Minister of the United Kingdom during most of the Second World War?\",\n",
            "    \"choices\": {\n",
            "      \"1\": \"Winston Churchill\",\n",
            "      \"2\": \"Franklin D. Roosevelt\",\n",
            "      \"3\": \"Joseph Stalin\",\n",
            "      \"4\": \"Adolf Hitler\"\n",
            "    },\n",
            "    \"correct_answer\": \"1\"\n",
            "  },\n",
            "  {\n",
            "    \"question\": \"Which event led to the United States entering the Second World War?\",\n",
            "    \"choices\": {\n",
            "      \"1\": \"Bombing of Pearl Harbor\",\n",
            "      \"2\": \"D-Day invasion\",\n",
            "      \"3\": \"Battle of Stalingrad\",\n",
            "      \"4\": \"Bombing of Hiroshima\"\n",
            "    },\n",
            "    \"correct_answer\": \"1\"\n",
            "  },\n",
            "  {\n",
            "    \"question\": \"Where did the Second World War officially end?\",\n",
            "    \"choices\": {\n",
            "      \"1\": \"Berlin, Germany\",\n",
            "      \"2\": \"Tokyo, Japan\",\n",
            "      \"3\": \"London, United Kingdom\",\n",
            "      \"4\": \"Moscow, Soviet Union\"\n",
            "    },\n",
            "    \"correct_answer\": \"2\"\n",
            "  }\n",
            "]\n"
          ]
        }
      ]
    },
    {
      "cell_type": "markdown",
      "source": [
        "### Dictionary output"
      ],
      "metadata": {
        "id": "GN9dqLLNesom"
      }
    },
    {
      "cell_type": "code",
      "source": [
        "dict_response = json.loads(response)\n",
        "print(dict_response)"
      ],
      "metadata": {
        "colab": {
          "base_uri": "https://localhost:8080/"
        },
        "id": "DXc0Enefewm6",
        "outputId": "26dc307f-6862-4fe6-b485-dc70d1d143a9"
      },
      "execution_count": 8,
      "outputs": [
        {
          "output_type": "stream",
          "name": "stdout",
          "text": [
            "[{'question': 'When did the Second World War start?', 'choices': {'1': '1939', '2': '1941', '3': '1943', '4': '1945'}, 'correct_answer': '1'}, {'question': 'Which country was not part of the Axis powers during the Second World War?', 'choices': {'1': 'Germany', '2': 'Italy', '3': 'Soviet Union', '4': 'Japan'}, 'correct_answer': '3'}, {'question': 'Who was the Prime Minister of the United Kingdom during most of the Second World War?', 'choices': {'1': 'Winston Churchill', '2': 'Franklin D. Roosevelt', '3': 'Joseph Stalin', '4': 'Adolf Hitler'}, 'correct_answer': '1'}, {'question': 'Which event led to the United States entering the Second World War?', 'choices': {'1': 'Bombing of Pearl Harbor', '2': 'D-Day invasion', '3': 'Battle of Stalingrad', '4': 'Bombing of Hiroshima'}, 'correct_answer': '1'}, {'question': 'Where did the Second World War officially end?', 'choices': {'1': 'Berlin, Germany', '2': 'Tokyo, Japan', '3': 'London, United Kingdom', '4': 'Moscow, Soviet Union'}, 'correct_answer': '2'}]\n"
          ]
        }
      ]
    },
    {
      "cell_type": "markdown",
      "source": [
        "### Generate Questions"
      ],
      "metadata": {
        "id": "7m3UhGfKfWa_"
      }
    },
    {
      "cell_type": "code",
      "source": [
        "response = generate_question_answer(input(\"Please enter the quiz topic.....\" ))\n",
        "dict_response = json.loads(response)\n",
        "#print(dict_response)\n",
        "\n",
        "# Assume that 'dict_response' is a valid dictionary with the question information.\n",
        "\n",
        "count = 0  # Initialize count to 0 before the loop\n",
        "\n",
        "for i in range(5):\n",
        "    print(list(dict_response.items())[count][1])\n",
        "    print(list(dict_response.items())[count + 1][1])\n",
        "    user_answer = int(input(\"Enter the number for correct answer...\"))\n",
        "    correct_answer = int(list(dict_response.items())[count + 2][1])\n",
        "\n",
        "    if user_answer == correct_answer:\n",
        "        print(\"Your answer is correct.\")\n",
        "    else:\n",
        "        print(\"Your answer is incorrect.\")\n",
        "        print(\"The correct answer is:\", list(dict_response.items())[count + 2][1])\n",
        "\n",
        "    count += 3  # Increment count by 3 for the next iteration\n",
        "\n",
        "\n"
      ],
      "metadata": {
        "colab": {
          "base_uri": "https://localhost:8080/"
        },
        "id": "EG37bgrlfZo8",
        "outputId": "bac788d0-94de-4839-87c0-23b4c0aa7a63"
      },
      "execution_count": 10,
      "outputs": [
        {
          "output_type": "stream",
          "name": "stdout",
          "text": [
            "Please enter the quiz topic.....Second World War\n",
            "Which two countries formed the Axis Powers in the Second World War?\n",
            "{'1': 'Germany and Japan', '2': 'Germany and Italy', '3': 'Italy and Japan', '4': 'Germany and Russia'}\n",
            "Enter the number for correct answer...2\n",
            "Your answer is correct.\n",
            "Which event triggered the start of the Second World War?\n",
            "{'1': 'Invasion of Poland', '2': 'Attack on Pearl Harbor', '3': 'Battle of Stalingrad', '4': 'D-Day invasion'}\n",
            "Enter the number for correct answer...1\n",
            "Your answer is correct.\n",
            "Who was the leader of Germany during the Second World War?\n",
            "{'1': 'Joseph Stalin', '2': 'Benito Mussolini', '3': 'Winston Churchill', '4': 'Adolf Hitler'}\n",
            "Enter the number for correct answer...4\n",
            "Your answer is correct.\n",
            "Which country joined the war after the bombing of Pearl Harbor?\n",
            "{'1': 'Japan', '2': 'Germany', '3': 'United Kingdom', '4': 'United States'}\n",
            "Enter the number for correct answer...4\n",
            "Your answer is correct.\n",
            "Which major battle was a turning point in the European theater of the Second World War?\n",
            "{'1': 'Battle of Midway', '2': 'Battle of the Bulge', '3': 'Battle of Normandy', '4': 'Battle of Stalingrad'}\n",
            "Enter the number for correct answer...3\n",
            "Your answer is incorrect.\n",
            "The correct answer is: 4\n"
          ]
        }
      ]
    }
  ]
}